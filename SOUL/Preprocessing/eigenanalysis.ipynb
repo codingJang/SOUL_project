{
 "cells": [
  {
   "attachments": {},
   "cell_type": "markdown",
   "metadata": {},
   "source": [
    "# Eigenanalysis"
   ]
  },
  {
   "cell_type": "code",
   "execution_count": 50,
   "metadata": {},
   "outputs": [
    {
     "name": "stdout",
     "output_type": "stream",
     "text": [
      "Requirement already satisfied: prince in /Users/jang-yejun/opt/anaconda3/lib/python3.9/site-packages (0.10.8)\n",
      "Requirement already satisfied: pandas<3.0.0,>=1.4.1 in /Users/jang-yejun/opt/anaconda3/lib/python3.9/site-packages (from prince) (2.0.3)\n",
      "Requirement already satisfied: altair<6.0.0,>=4.2.2 in /Users/jang-yejun/opt/anaconda3/lib/python3.9/site-packages (from prince) (5.0.1)\n",
      "Requirement already satisfied: scikit-learn<2.0.0,>=1.0.2 in /Users/jang-yejun/opt/anaconda3/lib/python3.9/site-packages (from prince) (1.3.0)\n",
      "Requirement already satisfied: typing-extensions>=4.0.1 in /Users/jang-yejun/opt/anaconda3/lib/python3.9/site-packages (from altair<6.0.0,>=4.2.2->prince) (4.7.0)\n",
      "Requirement already satisfied: jinja2 in /Users/jang-yejun/opt/anaconda3/lib/python3.9/site-packages (from altair<6.0.0,>=4.2.2->prince) (2.11.3)\n",
      "Requirement already satisfied: toolz in /Users/jang-yejun/opt/anaconda3/lib/python3.9/site-packages (from altair<6.0.0,>=4.2.2->prince) (0.11.1)\n",
      "Requirement already satisfied: jsonschema>=3.0 in /Users/jang-yejun/opt/anaconda3/lib/python3.9/site-packages (from altair<6.0.0,>=4.2.2->prince) (3.2.0)\n",
      "Requirement already satisfied: numpy in /Users/jang-yejun/opt/anaconda3/lib/python3.9/site-packages (from altair<6.0.0,>=4.2.2->prince) (1.20.3)\n",
      "Requirement already satisfied: setuptools in /Users/jang-yejun/opt/anaconda3/lib/python3.9/site-packages (from jsonschema>=3.0->altair<6.0.0,>=4.2.2->prince) (58.0.4)\n",
      "Requirement already satisfied: pyrsistent>=0.14.0 in /Users/jang-yejun/opt/anaconda3/lib/python3.9/site-packages (from jsonschema>=3.0->altair<6.0.0,>=4.2.2->prince) (0.18.0)\n",
      "Requirement already satisfied: attrs>=17.4.0 in /Users/jang-yejun/opt/anaconda3/lib/python3.9/site-packages (from jsonschema>=3.0->altair<6.0.0,>=4.2.2->prince) (21.2.0)\n",
      "Requirement already satisfied: six>=1.11.0 in /Users/jang-yejun/opt/anaconda3/lib/python3.9/site-packages (from jsonschema>=3.0->altair<6.0.0,>=4.2.2->prince) (1.16.0)\n",
      "Requirement already satisfied: python-dateutil>=2.8.2 in /Users/jang-yejun/opt/anaconda3/lib/python3.9/site-packages (from pandas<3.0.0,>=1.4.1->prince) (2.8.2)\n",
      "Requirement already satisfied: tzdata>=2022.1 in /Users/jang-yejun/opt/anaconda3/lib/python3.9/site-packages (from pandas<3.0.0,>=1.4.1->prince) (2023.3)\n",
      "Requirement already satisfied: pytz>=2020.1 in /Users/jang-yejun/opt/anaconda3/lib/python3.9/site-packages (from pandas<3.0.0,>=1.4.1->prince) (2021.3)\n",
      "Requirement already satisfied: scipy>=1.5.0 in /Users/jang-yejun/opt/anaconda3/lib/python3.9/site-packages (from scikit-learn<2.0.0,>=1.0.2->prince) (1.7.1)\n",
      "Requirement already satisfied: joblib>=1.1.1 in /Users/jang-yejun/opt/anaconda3/lib/python3.9/site-packages (from scikit-learn<2.0.0,>=1.0.2->prince) (1.3.1)\n",
      "Requirement already satisfied: threadpoolctl>=2.0.0 in /Users/jang-yejun/opt/anaconda3/lib/python3.9/site-packages (from scikit-learn<2.0.0,>=1.0.2->prince) (2.2.0)\n",
      "Requirement already satisfied: MarkupSafe>=0.23 in /Users/jang-yejun/opt/anaconda3/lib/python3.9/site-packages (from jinja2->altair<6.0.0,>=4.2.2->prince) (1.1.1)\n"
     ]
    }
   ],
   "source": [
    "!pip install prince"
   ]
  },
  {
   "cell_type": "code",
   "execution_count": 51,
   "metadata": {},
   "outputs": [],
   "source": [
    "import numpy as np\n",
    "import networkx as nx\n",
    "from pyvis.network import Network\n",
    "from IPython.core.display import display, HTML\n",
    "import matplotlib.pyplot as plt\n",
    "import pandas as pd\n",
    "import re\n",
    "import prince"
   ]
  },
  {
   "cell_type": "code",
   "execution_count": 52,
   "metadata": {},
   "outputs": [
    {
     "name": "stdout",
     "output_type": "stream",
     "text": [
      "['KOR', 'USA', 'CHN', 'JPN', 'UKG', 'GER', 'RUS', 'FRN', 'IND', 'AUL', 'MEX', 'INS', 'TUR']\n"
     ]
    }
   ],
   "source": [
    "with open('important_countries.txt', 'r') as file:\n",
    "    text = file.read()\n",
    "\n",
    "# Split the text by blank lines to separate the countries\n",
    "important_countries = re.split(r'\\n\\s*\\n', text)\n",
    "print(important_countries)"
   ]
  },
  {
   "cell_type": "code",
   "execution_count": 53,
   "metadata": {},
   "outputs": [],
   "source": [
    "IGO_df = pd.read_csv(\"IGO_adjmat_important.csv\", index_col=0)\n",
    "DCAD_df = pd.read_csv(\"DCAD_adjmat_important.csv\", index_col=0)"
   ]
  },
  {
   "cell_type": "code",
   "execution_count": 54,
   "metadata": {},
   "outputs": [],
   "source": [
    "import numpy as np\n",
    "\n",
    "def correspondence_analysis(matrix):\n",
    "    # Step 1: Compute row and column totals\n",
    "    row_totals = matrix.sum(axis=1)\n",
    "    column_totals = matrix.sum(axis=0)\n",
    "\n",
    "    # Step 2: Compute total sum of the matrix\n",
    "    N = matrix.sum()\n",
    "\n",
    "    # Step 3: Compute relative frequencies\n",
    "    P = matrix / N\n",
    "\n",
    "    # Step 4: Compute expected frequencies under independence\n",
    "    P_hat = np.outer(row_totals, column_totals) / N**2\n",
    "\n",
    "    # Step 5: Compute deviation from independence\n",
    "    D = P - P_hat\n",
    "\n",
    "    # Step 6: Compute total inertia\n",
    "    inertia = np.sum(D**2 / P_hat)\n",
    "\n",
    "    # Step 7: Decompose the total inertia into orthogonal factors\n",
    "    row_ratios = row_totals / N\n",
    "    column_ratios = column_totals / N\n",
    "    sqrt_row_ratios = np.sqrt(row_ratios)\n",
    "    sqrt_col_ratios = np.sqrt(column_ratios)\n",
    "    \n",
    "    # Scaling D\n",
    "    S = D / np.outer(sqrt_row_ratios, sqrt_col_ratios)\n",
    "    \n",
    "    # Singular Value Decomposition\n",
    "    U, s, VT = np.linalg.svd(S, full_matrices=False)\n",
    "    \n",
    "    # First and second dimensions for row and columns\n",
    "    row_coord_dim1 = U[:,0] / sqrt_row_ratios\n",
    "    row_coord_dim2 = U[:,1] / sqrt_row_ratios\n",
    "    col_coord_dim1 = VT.T[:,0] / sqrt_col_ratios\n",
    "    col_coord_dim2 = VT.T[:,1] / sqrt_col_ratios\n",
    "    \n",
    "    return row_coord_dim1, row_coord_dim2, col_coord_dim1, col_coord_dim2, inertia\n"
   ]
  },
  {
   "cell_type": "code",
   "execution_count": 55,
   "metadata": {},
   "outputs": [
    {
     "name": "stdout",
     "output_type": "stream",
     "text": [
      "[-0.54974404  0.65528373 -1.19788054  0.29967862  1.36122197  1.2771865\n",
      " -0.66725078  1.21017623 -1.40124093 -0.12380869 -0.19255671 -1.87170337\n",
      "  0.39631366] [-0.10810058  0.46016832  1.10425446 -0.44345645  0.37343123  0.38549842\n",
      "  0.50728661  0.93028838  0.69621133 -1.15236858 -2.93397199  0.30871768\n",
      " -0.48014292] [-0.54974404  0.65528373 -1.19788054  0.29967862  1.36122197  1.2771865\n",
      " -0.66725078  1.21017623 -1.40124093 -0.12380869 -0.19255671 -1.87170337\n",
      "  0.39631366] [-0.10810058  0.46016832  1.10425446 -0.44345645  0.37343123  0.38549842\n",
      "  0.50728661  0.93028838  0.69621133 -1.15236858 -2.93397199  0.30871768\n",
      " -0.48014292] 0.013254560420677526\n"
     ]
    }
   ],
   "source": [
    "row_coord_dim1, row_coord_dim2, col_coord_dim1, col_coord_dim2, inertia = correspondence_analysis(IGO_df.values)\n",
    "print(row_coord_dim1, row_coord_dim2, col_coord_dim1, col_coord_dim2, inertia)"
   ]
  },
  {
   "cell_type": "code",
   "execution_count": 56,
   "metadata": {},
   "outputs": [
    {
     "name": "stdout",
     "output_type": "stream",
     "text": [
      "eigval: (0.020670009751842956+0j), eigvec: +(0.05+0j)KOR (-0.08+0j)USA (-0.15+0.15j)CHN (-0.15-0.15j)JPN (-0.01+0j)UKG (-0.01-0j)GER +(0.27+0j)RUS +(0.27-0j)FRN +(0.17+0j)IND +(0.03+0.04j)AUL +(0.03-0.04j)MEX (-0.04+0j)INS +(0.06+0j)TUR \n",
      "eigval: (0.011657606943852889+0j), eigvec: +(0.16+0j)KOR (-0.03+0j)USA (-0.01-0.11j)CHN (-0.01+0.11j)JPN (-0.03-0.13j)UKG (-0.03+0.13j)GER +(0.03-0.02j)RUS +(0.03+0.02j)FRN (-0.29+0j)IND (-0.16-0.33j)AUL (-0.16+0.33j)MEX +(0.49+0j)INS (-0.72+0j)TUR \n",
      "eigval: (0.003856112360243539+0.0007213120016794147j), eigvec: +(0.15+0j)KOR (-0.14+0j)USA +(0.04-0.11j)CHN +(0.04+0.11j)JPN +(0.11-0.02j)UKG +(0.11+0.02j)GER (-0.05+0j)RUS (-0.05-0j)FRN +(0.67+0j)IND +(0.09+0.04j)AUL +(0.09-0.04j)MEX (-0.3+0j)INS +(0.12+0j)TUR \n",
      "eigval: (0.003856112360243539-0.0007213120016794147j), eigvec: +(0.07+0j)KOR (-0.09+0j)USA +(0.56+0j)CHN +(0.56-0j)JPN +(0.55+0j)UKG +(0.55-0j)GER (-0.15+0.05j)RUS (-0.15-0.05j)FRN +(0.01+0j)IND (-0.03-0.03j)AUL (-0.03+0.03j)MEX +(0.04+0j)INS (-0.09+0j)TUR \n",
      "eigval: (0.0038924169845065974+0.0003958952222505517j), eigvec: +(0.25+0j)KOR (-0.15+0j)USA (-0.29+0.31j)CHN (-0.29-0.31j)JPN (-0.23+0.38j)UKG (-0.23-0.38j)GER +(0.1-0.03j)RUS +(0.1+0.03j)FRN (-0.06+0j)IND +(0.1+0.21j)AUL +(0.1-0.21j)MEX +(0.18+0j)INS +(0.1+0j)TUR \n",
      "eigval: (0.0038924169845065974-0.0003958952222505517j), eigvec: +(0.27+0j)KOR +(0.01+0j)USA +(0.32-0.19j)CHN +(0.32+0.19j)JPN +(0.29-0.32j)UKG +(0.29+0.32j)GER (-0.54+0.02j)RUS (-0.54-0.02j)FRN +(-0+0j)IND +(0.1+0.17j)AUL +(0.1-0.17j)MEX +0jINS +(0.17+0j)TUR \n",
      "eigval: (0.00530619148115172+8.139574554307408e-05j), eigvec: +(0.09+0j)KOR (-0.12+0j)USA (-0.03-0.04j)CHN (-0.03+0.04j)JPN (-0.04-0.04j)UKG (-0.04+0.04j)GER +(0.14-0j)RUS +(0.14+0j)FRN +(0.23+0j)IND +(0.47+0.06j)AUL +(0.47-0.06j)MEX +(0.14+0j)INS +(0.54+0j)TUR \n",
      "eigval: (0.00530619148115172-8.139574554307408e-05j), eigvec: +(0.37+0j)KOR +(0.39+0j)USA (-0.05-0.02j)CHN (-0.05+0.02j)JPN (-0.04+0.04j)UKG (-0.04-0.04j)GER +(0.2+0.01j)RUS +(0.2-0.01j)FRN +(0.05+0j)IND (-0.12-0.23j)AUL (-0.12+0.23j)MEX (-0.27+0j)INS (-0.04+0j)TUR \n",
      "eigval: (0.0082091952821835+0j), eigvec: +(0.24+0j)KOR (-0.23+0j)USA +(-0+0.03j)CHN (-0-0.03j)JPN +(0.01+0.03j)UKG +(0.01-0.03j)GER (-0.05+0j)RUS (-0.05-0j)FRN (-0.27+0j)IND +(0.26+0.09j)AUL +(0.26-0.09j)MEX (-0.48+0j)INS +(0.27+0j)TUR \n",
      "eigval: (0.00893227161670764+0.0004897931233400907j), eigvec: +(0.12+0j)KOR (-0.06+0j)USA (-0.29+0.15j)CHN (-0.29-0.15j)JPN (-0.32+0.18j)UKG (-0.32-0.18j)GER (-0.08+0.03j)RUS (-0.08-0.03j)FRN +(0.25+0j)IND +(0.09+0.05j)AUL +(0.09-0.05j)MEX (-0.18+0j)INS +(0.2+0j)TUR \n",
      "eigval: (0.00893227161670764-0.0004897931233400907j), eigvec: +(0.3+0j)KOR (-0.59+0j)USA +(0.03+0.05j)CHN +(0.03-0.05j)JPN +(0.03+0.04j)UKG +(0.03-0.04j)GER (-0.2-0j)RUS (-0.2+0j)FRN (-0.35+0j)IND (-0.57+0j)AUL (-0.57-0j)MEX (-0.38+0j)INS +(0.11+0j)TUR \n",
      "eigval: (0.009521656371180331+0j), eigvec: +(0.71+0j)KOR (-0.59+0j)USA (-0.1-0.39j)CHN (-0.1+0.39j)JPN (-0.13-0.26j)UKG (-0.13+0.26j)GER +(0.63+0j)RUS +(0.63-0j)FRN (-0.01+0j)IND (-0.13+0.18j)AUL (-0.13-0.18j)MEX +(0.31+0j)INS +0jTUR \n",
      "eigval: (0.009197562468817835+0j), eigvec: +(0.06+0j)KOR (-0.13+0j)USA (-0.1+0.11j)CHN (-0.1-0.11j)JPN (-0.24-0.02j)UKG (-0.24+0.02j)GER +(0.3-0.03j)RUS +(0.3+0.03j)FRN +(0.35+0j)IND +(0.05+0.01j)AUL +(0.05-0.01j)MEX (-0.18+0j)INS +(0.05+0j)TUR \n"
     ]
    }
   ],
   "source": [
    "normalized = IGO_np / sum(IGO_np)\n",
    "mean = np.mean(normalized)\n",
    "chi_square = np.square(normalized - mean)/mean\n",
    "(eigvals, eigvecs) = np.linalg.eig(chi_square)\n",
    "eigvecs = eigvecs.round(decimals=2)\n",
    "for eigval, eigvec in zip(eigvals, eigvecs):\n",
    "    string_to_display = ''\n",
    "    for i in range(len(eigvec)):\n",
    "        # print(str(eigvec[i]) + important_countries[i])\n",
    "        if eigvec[i] < 0:\n",
    "            string_to_display += f'{eigvec[i]}{important_countries[i]} '\n",
    "        else:\n",
    "            string_to_display += '+' + str(eigvec[i]) + f'{important_countries[i]} '\n",
    "    print(f'eigval: {str(eigval)}, eigvec: {string_to_display}')"
   ]
  },
  {
   "attachments": {},
   "cell_type": "markdown",
   "metadata": {},
   "source": []
  }
 ],
 "metadata": {
  "kernelspec": {
   "display_name": "base",
   "language": "python",
   "name": "python3"
  },
  "language_info": {
   "codemirror_mode": {
    "name": "ipython",
    "version": 3
   },
   "file_extension": ".py",
   "mimetype": "text/x-python",
   "name": "python",
   "nbconvert_exporter": "python",
   "pygments_lexer": "ipython3",
   "version": "3.9.7"
  },
  "orig_nbformat": 4
 },
 "nbformat": 4,
 "nbformat_minor": 2
}
