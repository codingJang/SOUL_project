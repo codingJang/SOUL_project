{
 "cells": [
  {
   "attachments": {},
   "cell_type": "markdown",
   "metadata": {},
   "source": [
    "# Learning Basic Reinforcement Learning"
   ]
  },
  {
   "attachments": {},
   "cell_type": "markdown",
   "metadata": {},
   "source": [
    "### Bellman's Equation\n",
    "\n",
    "$$\n",
    "V(s) = \\max_a \\left\\{ R(s, a) + \\gamma \\sum_{s'} {P(s'|s,a) V(s')} \\right\\}\n",
    "$$\n",
    "\n",
    "- $s$ is the state\n",
    "- $a$ is the action\n",
    "- $V(s)$ is the value of state $s$\n",
    "- $R(s, a)$ is the immediate reward for choosing action $a$ in state $s$\n",
    "- $P(s'|s, a)$ is the probability of transitioning from state $s$ to state $s'$, by taking the action $a$\n",
    "- $\\gamma$ is the discount factor that determines the importance of future rewards"
   ]
  },
  {
   "attachments": {},
   "cell_type": "markdown",
   "metadata": {},
   "source": [
    "### Q-learning\n",
    "\n",
    "Update the Q-value of a state-action pair based on the difference between the observed reward and the expected reward.\n",
    "\n",
    "Q-value : The expected cumulative reward of taking action $a$ in state $s$ and following optimal policy thereafter.\n",
    "\n",
    "$$\n",
    "Q(s, a) = Q(s, a) + \\alpha \\left(R(s, a) + \\gamma \\max_{a'} \\left\\{Q(s',a')-Q(s,a)\\right\\}\\right)"
   ]
  },
  {
   "cell_type": "code",
   "execution_count": 97,
   "metadata": {},
   "outputs": [],
   "source": [
    "import numpy as np\n",
    "\n",
    "class GridWorld:\n",
    "    def __init__(self):\n",
    "        self.width = 4\n",
    "        self.height = 4\n",
    "        self.pos = np.array([0, 0])\n",
    "        self.treasure = np.array([3, 3])\n",
    "        self.pit = np.array([2, 2])\n",
    "\n",
    "    def step(self, action):\n",
    "        reward = 0\n",
    "        done = False\n",
    "\n",
    "        if action == 0:\n",
    "            self.pos[0] = max(self.pos[0] - 1, 0)\n",
    "        elif action == 1:\n",
    "            self.pos[0] = min(self.pos[0] + 1, self.height - 1)\n",
    "        elif action == 2:\n",
    "            self.pos[1] = max(self.pos[1] - 1, 0)\n",
    "        elif action == 3:\n",
    "            self.pos[1] = min(self.pos[1] + 1, self.width - 1)\n",
    "        \n",
    "        if np.all(self.pos == self.treasure):\n",
    "            reward = 1\n",
    "            done = True\n",
    "        elif np.all(self.pos == self.pit):\n",
    "            reward = -1\n",
    "            done = True\n",
    "        \n",
    "        return self.pos, reward, done\n"
   ]
  },
  {
   "cell_type": "code",
   "execution_count": 103,
   "metadata": {},
   "outputs": [],
   "source": [
    "class QLearningAgent:\n",
    "    def __init__(self, n_actions, alpha=0.1, gamma=0.9, epsilon=1):\n",
    "        self.n_actions = n_actions\n",
    "        self.alpha = alpha\n",
    "        self.gamma = gamma\n",
    "        self.epsilon = epsilon\n",
    "        self.Q = np.random.randn(4, 4, n_actions)\n",
    "\n",
    "    def act(self, state):\n",
    "        if np.random.rand() < self.epsilon:\n",
    "            return np.random.randint(self.n_actions)\n",
    "        else:\n",
    "            return np.argmax(self.Q[state[0], state[1], :])\n",
    "    \n",
    "    def learn(self, state, action, reward, next_state, done):\n",
    "        q_next = np.max(self.Q[next_state[0], next_state[1], :])\n",
    "        self.Q[state[0], state[1], action] += self.alpha * (reward + self.gamma * q_next - self.Q[state[0], state[1], action])\n",
    "        "
   ]
  },
  {
   "cell_type": "code",
   "execution_count": 104,
   "metadata": {},
   "outputs": [
    {
     "data": {
      "image/png": "[encoded data removed]",
      "text/plain": [
       "<Figure size 288x288 with 2 Axes>"
      ]
     },
     "metadata": {
      "needs_background": "light"
     },
     "output_type": "display_data"
    },
    {
     "data": {
      "image/png": "[encoded data removed]",
      "text/plain": [
       "<Figure size 288x288 with 2 Axes>"
      ]
     },
     "metadata": {
      "needs_background": "light"
     },
     "output_type": "display_data"
    },
    {
     "data": {
      "image/png": "[encoded data removed]",
      "text/plain": [
       "<Figure size 288x288 with 2 Axes>"
      ]
     },
     "metadata": {
      "needs_background": "light"
     },
     "output_type": "display_data"
    },
    {
     "data": {
      "image/png": "[encoded data removed]",
      "text/plain": [
       "<Figure size 288x288 with 2 Axes>"
      ]
     },
     "metadata": {
      "needs_background": "light"
     },
     "output_type": "display_data"
    }
   ],
   "source": [
    "env = GridWorld()\n",
    "agent = QLearningAgent(n_actions=4)\n",
    "\n",
    "sigmoid_Q = 1/(1+np.exp(-agent.Q))\n",
    "\n",
    "import matplotlib.pyplot as plt\n",
    "\n",
    "for i in range(agent.n_actions):\n",
    "    mat = plt.matshow(sigmoid_Q[:,:,i])\n",
    "    plt.colorbar(mat)\n",
    "    # Show the plot\n",
    "    plt.show()"
   ]
  },
  {
   "cell_type": "code",
   "execution_count": 105,
   "metadata": {},
   "outputs": [
    {
     "data": {
      "image/png": "[encoded data removed]",
      "text/plain": [
       "<Figure size 288x288 with 2 Axes>"
      ]
     },
     "metadata": {
      "needs_background": "light"
     },
     "output_type": "display_data"
    },
    {
     "data": {
      "image/png": "[encoded data removed]",
      "text/plain": [
       "<Figure size 288x288 with 2 Axes>"
      ]
     },
     "metadata": {
      "needs_background": "light"
     },
     "output_type": "display_data"
    },
    {
     "data": {
      "image/png": "[encoded data removed]",
      "text/plain": [
       "<Figure size 288x288 with 2 Axes>"
      ]
     },
     "metadata": {
      "needs_background": "light"
     },
     "output_type": "display_data"
    },
    {
     "data": {
      "image/png": "[encoded data removed]",
      "text/plain": [
       "<Figure size 288x288 with 2 Axes>"
      ]
     },
     "metadata": {
      "needs_background": "light"
     },
     "output_type": "display_data"
    }
   ],
   "source": [
    "for i in range(10):\n",
    "    state = env.pos\n",
    "    action = agent.act(state)\n",
    "    next_state, reward, done = env.step(action)\n",
    "    # print(\"size of next state\", next_state.size())\n",
    "    agent.learn(state, action, reward, next_state, done)\n",
    "    if done:\n",
    "        env.__init__()\n",
    "\n",
    "sigmoid_Q = 1/(1+np.exp(-agent.Q))\n",
    "for i in range(agent.n_actions):\n",
    "    mat = plt.matshow(sigmoid_Q[:,:,i])\n",
    "    plt.colorbar(mat)\n",
    "    # Show the plot\n",
    "    plt.show()"
   ]
  }
 ],
 "metadata": {
  "kernelspec": {
   "display_name": "base",
   "language": "python",
   "name": "python3"
  },
  "language_info": {
   "codemirror_mode": {
    "name": "ipython",
    "version": 3
   },
   "file_extension": ".py",
   "mimetype": "text/x-python",
   "name": "python",
   "nbconvert_exporter": "python",
   "pygments_lexer": "ipython3",
   "version": "3.9.7"
  },
  "orig_nbformat": 4
 },
 "nbformat": 4,
 "nbformat_minor": 2
}
