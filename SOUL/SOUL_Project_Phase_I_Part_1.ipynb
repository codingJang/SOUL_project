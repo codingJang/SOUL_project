{
 "cells": [
  {
   "cell_type": "markdown",
   "metadata": {
    "id": "81jEtSJdT0tt"
   },
   "source": [
    "# SOUL Project Phase I\n",
    "# 테라-루나 코인 붕괴 분석하기\n"
   ]
  },
  {
   "cell_type": "markdown",
   "metadata": {
    "id": "YI2FgFwSlSxG"
   },
   "source": [
    "## Part 1. 데이터 불러오기 및 시각화"
   ]
  },
  {
   "cell_type": "markdown",
   "metadata": {
    "id": "_zYCSnWClizY"
   },
   "source": [
    "### 백엔드 연결 및 초기 셋업"
   ]
  },
  {
   "cell_type": "markdown",
   "metadata": {
    "id": "Rnu_NAEXUBsc"
   },
   "source": [
    "\n",
    "먼저 구글 백엔드에 있는 컴퓨터를 나의 구글 드라이브에 연결시킨다."
   ]
  },
  {
   "cell_type": "code",
   "execution_count": null,
   "metadata": {
    "colab": {
     "base_uri": "https://localhost:8080/"
    },
    "id": "1_XJgwRrO4Y-",
    "outputId": "bea8ffa3-5207-4495-dbfd-68213c97844d"
   },
   "outputs": [
    {
     "name": "stdout",
     "output_type": "stream",
     "text": [
      "Mounted at /content/drive/\n"
     ]
    }
   ],
   "source": [
    "from google.colab import drive\n",
    "\n",
    "drive.mount('/content/drive/', force_remount=True)"
   ]
  },
  {
   "cell_type": "markdown",
   "metadata": {
    "id": "LPI_z3htVP-V"
   },
   "source": [
    "그리고 `%cd` 커맨드를 이용하여 기본 폴더에서 SOUL 프로젝트를 위해 새로 만든 \"drive/MyDrive/SOUL\" 폴더로 이동한다.\n",
    "\n",
    "여기서 \"/\"는 폴더의 상하위 관계를 표현한다.  \n",
    "예를 들어, \"A/B/C\"는 폴더 A 안에 있는 폴더 B 안에 있는 폴더 C를 의미한다.\n",
    "\n",
    "이후 `ls` 커맨드를 이용하여 해당 폴더 안에 있는 하위 폴더와 파일을 확인한다."
   ]
  },
  {
   "cell_type": "code",
   "execution_count": 17,
   "metadata": {
    "colab": {
     "base_uri": "https://localhost:8080/"
    },
    "id": "o4rpBB6JVJnk",
    "outputId": "4da362d8-4506-401f-92d0-53375365a261"
   },
   "outputs": [
    {
     "name": "stdout",
     "output_type": "stream",
     "text": [
      "[Errno 2] No such file or directory: 'drive/MyDrive/SOUL/'\n",
      "/content/drive/MyDrive/SOUL\n",
      "10-minutes-to-pandas.ipynb  SOUL-Project-Phase-I.ipynb\n",
      "LUNAUSDT-1m-2021-01-28.csv\n"
     ]
    }
   ],
   "source": [
    "%cd drive/MyDrive/SOUL/\n",
    "%ls"
   ]
  },
  {
   "cell_type": "markdown",
   "metadata": {
    "id": "dHSYoNolWFhs"
   },
   "source": [
    "numpy와 pandas, 그리고 matplotlib.pyplot 패키지를 import한다.\n",
    "\n",
    "numpy는 다차원 데이터를 다루는 패키지이고, pandas는 numpy를 활용하여 개발된 데이터 가공 라이브러리이다.  \n",
    "matplotlib.pyplot은 데이터를 도표나 그래프로 시각화하기 위해 사용하는 라이브러리이다.\n",
    "\n",
    "`as` 뒤에 나오는 `np`, `pd`, `plt`는 각각 라이브러리의 별명이라고 생각하면 된다."
   ]
  },
  {
   "cell_type": "code",
   "execution_count": 18,
   "metadata": {
    "id": "ag16ewSdPBa7"
   },
   "outputs": [],
   "source": [
    "import numpy as np\n",
    "import pandas as pd\n",
    "import matplotlib.pyplot as plt"
   ]
  },
  {
   "cell_type": "markdown",
   "metadata": {
    "id": "Crusvxv1lrQB"
   },
   "source": [
    "### 루나 거래 정보 불러오기"
   ]
  },
  {
   "cell_type": "markdown",
   "metadata": {
    "id": "o8ZDqpthZb3b"
   },
   "source": [
    ".csv 형태의 루나 코인 거래 정보 데이터를 `pd.read_csv`를 이용하여 불러온다.\n",
    "\n",
    "`df`는 `pandas.Dataframe` 객체로, 쉽게 생각해서 표(table)라고 할 수 있다.  \n",
    "`df`는 `df.columns`라는 멤버 객체를 가지고 있는데, 이는 `df`의 각 열의 제목을 리스트로 만든 것이다."
   ]
  },
  {
   "cell_type": "code",
   "execution_count": 47,
   "metadata": {
    "id": "0rY3WKc2PCmN"
   },
   "outputs": [],
   "source": [
    "df = pd.read_csv('LUNAUSDT-1m-2022-05-06.csv')\n",
    "df.columns = [\"open_time\", \"open\", \"high\", \"low\", \"close\", \"volume\", \"close_time\", \"quote_asset_volume\", \"number_of_trades\", \"taker_buy_base_asset_volume\", \"taker_buy_quote_asset_volume\", \"ignore\"]"
   ]
  },
  {
   "cell_type": "markdown",
   "metadata": {
    "id": "QVDsPG8Ra6Qm"
   },
   "source": [
    "df의 모습을 확인해보자."
   ]
  },
  {
   "cell_type": "code",
   "execution_count": 48,
   "metadata": {
    "colab": {
     "base_uri": "https://localhost:8080/",
     "height": 424
    },
    "id": "a3yfdF-GPH_R",
    "outputId": "4497dcc7-b73f-431a-92ec-908c1974fdbb"
   },
   "outputs": [
    {
     "data": {
      "text/html": [
       "\n",
       "  <div id=\"df-756deb8a-7cd1-4eba-8d39-3cd61a57d750\">\n",
       "    <div class=\"colab-df-container\">\n",
       "      <div>\n",
       "<style scoped>\n",
       "    .dataframe tbody tr th:only-of-type {\n",
       "        vertical-align: middle;\n",
       "    }\n",
       "\n",
       "    .dataframe tbody tr th {\n",
       "        vertical-align: top;\n",
       "    }\n",
       "\n",
       "    .dataframe thead th {\n",
       "        text-align: right;\n",
       "    }\n",
       "</style>\n",
       "<table border=\"1\" class=\"dataframe\">\n",
       "  <thead>\n",
       "    <tr style=\"text-align: right;\">\n",
       "      <th></th>\n",
       "      <th>open_time</th>\n",
       "      <th>open</th>\n",
       "      <th>high</th>\n",
       "      <th>low</th>\n",
       "      <th>close</th>\n",
       "      <th>volume</th>\n",
       "      <th>close_time</th>\n",
       "      <th>quote_asset_volume</th>\n",
       "      <th>number_of_trades</th>\n",
       "      <th>taker_buy_base_asset_volume</th>\n",
       "      <th>taker_buy_quote_asset_volume</th>\n",
       "      <th>ignore</th>\n",
       "    </tr>\n",
       "  </thead>\n",
       "  <tbody>\n",
       "    <tr>\n",
       "      <th>0</th>\n",
       "      <td>1651795260000</td>\n",
       "      <td>82.27</td>\n",
       "      <td>82.33</td>\n",
       "      <td>82.22</td>\n",
       "      <td>82.29</td>\n",
       "      <td>1321.94</td>\n",
       "      <td>1651795319999</td>\n",
       "      <td>108737.7887</td>\n",
       "      <td>165</td>\n",
       "      <td>394.75</td>\n",
       "      <td>32473.3869</td>\n",
       "      <td>0</td>\n",
       "    </tr>\n",
       "    <tr>\n",
       "      <th>1</th>\n",
       "      <td>1651795320000</td>\n",
       "      <td>82.30</td>\n",
       "      <td>82.96</td>\n",
       "      <td>82.24</td>\n",
       "      <td>82.96</td>\n",
       "      <td>7295.80</td>\n",
       "      <td>1651795379999</td>\n",
       "      <td>602823.4094</td>\n",
       "      <td>840</td>\n",
       "      <td>4474.21</td>\n",
       "      <td>369611.5287</td>\n",
       "      <td>0</td>\n",
       "    </tr>\n",
       "    <tr>\n",
       "      <th>2</th>\n",
       "      <td>1651795380000</td>\n",
       "      <td>82.97</td>\n",
       "      <td>83.03</td>\n",
       "      <td>82.74</td>\n",
       "      <td>82.88</td>\n",
       "      <td>4019.77</td>\n",
       "      <td>1651795439999</td>\n",
       "      <td>333113.0076</td>\n",
       "      <td>499</td>\n",
       "      <td>1596.36</td>\n",
       "      <td>132283.9177</td>\n",
       "      <td>0</td>\n",
       "    </tr>\n",
       "    <tr>\n",
       "      <th>3</th>\n",
       "      <td>1651795440000</td>\n",
       "      <td>82.88</td>\n",
       "      <td>82.98</td>\n",
       "      <td>82.88</td>\n",
       "      <td>82.95</td>\n",
       "      <td>1221.08</td>\n",
       "      <td>1651795499999</td>\n",
       "      <td>101268.7597</td>\n",
       "      <td>156</td>\n",
       "      <td>721.17</td>\n",
       "      <td>59811.2911</td>\n",
       "      <td>0</td>\n",
       "    </tr>\n",
       "    <tr>\n",
       "      <th>4</th>\n",
       "      <td>1651795500000</td>\n",
       "      <td>82.95</td>\n",
       "      <td>83.05</td>\n",
       "      <td>82.88</td>\n",
       "      <td>82.91</td>\n",
       "      <td>2726.21</td>\n",
       "      <td>1651795559999</td>\n",
       "      <td>226206.9821</td>\n",
       "      <td>299</td>\n",
       "      <td>1357.00</td>\n",
       "      <td>112636.1089</td>\n",
       "      <td>0</td>\n",
       "    </tr>\n",
       "    <tr>\n",
       "      <th>...</th>\n",
       "      <td>...</td>\n",
       "      <td>...</td>\n",
       "      <td>...</td>\n",
       "      <td>...</td>\n",
       "      <td>...</td>\n",
       "      <td>...</td>\n",
       "      <td>...</td>\n",
       "      <td>...</td>\n",
       "      <td>...</td>\n",
       "      <td>...</td>\n",
       "      <td>...</td>\n",
       "      <td>...</td>\n",
       "    </tr>\n",
       "    <tr>\n",
       "      <th>1434</th>\n",
       "      <td>1651881300000</td>\n",
       "      <td>77.50</td>\n",
       "      <td>77.50</td>\n",
       "      <td>77.36</td>\n",
       "      <td>77.36</td>\n",
       "      <td>1647.52</td>\n",
       "      <td>1651881359999</td>\n",
       "      <td>127571.7222</td>\n",
       "      <td>120</td>\n",
       "      <td>642.34</td>\n",
       "      <td>49742.6907</td>\n",
       "      <td>0</td>\n",
       "    </tr>\n",
       "    <tr>\n",
       "      <th>1435</th>\n",
       "      <td>1651881360000</td>\n",
       "      <td>77.37</td>\n",
       "      <td>77.41</td>\n",
       "      <td>77.32</td>\n",
       "      <td>77.40</td>\n",
       "      <td>826.26</td>\n",
       "      <td>1651881419999</td>\n",
       "      <td>63927.0226</td>\n",
       "      <td>108</td>\n",
       "      <td>211.93</td>\n",
       "      <td>16398.7716</td>\n",
       "      <td>0</td>\n",
       "    </tr>\n",
       "    <tr>\n",
       "      <th>1436</th>\n",
       "      <td>1651881420000</td>\n",
       "      <td>77.41</td>\n",
       "      <td>77.46</td>\n",
       "      <td>77.39</td>\n",
       "      <td>77.42</td>\n",
       "      <td>286.44</td>\n",
       "      <td>1651881479999</td>\n",
       "      <td>22179.7564</td>\n",
       "      <td>47</td>\n",
       "      <td>114.31</td>\n",
       "      <td>8851.7381</td>\n",
       "      <td>0</td>\n",
       "    </tr>\n",
       "    <tr>\n",
       "      <th>1437</th>\n",
       "      <td>1651881480000</td>\n",
       "      <td>77.42</td>\n",
       "      <td>77.43</td>\n",
       "      <td>77.36</td>\n",
       "      <td>77.41</td>\n",
       "      <td>1501.75</td>\n",
       "      <td>1651881539999</td>\n",
       "      <td>116224.7208</td>\n",
       "      <td>85</td>\n",
       "      <td>797.52</td>\n",
       "      <td>61719.0222</td>\n",
       "      <td>0</td>\n",
       "    </tr>\n",
       "    <tr>\n",
       "      <th>1438</th>\n",
       "      <td>1651881540000</td>\n",
       "      <td>77.39</td>\n",
       "      <td>77.40</td>\n",
       "      <td>77.30</td>\n",
       "      <td>77.30</td>\n",
       "      <td>943.71</td>\n",
       "      <td>1651881599999</td>\n",
       "      <td>72990.3034</td>\n",
       "      <td>65</td>\n",
       "      <td>266.84</td>\n",
       "      <td>20636.5411</td>\n",
       "      <td>0</td>\n",
       "    </tr>\n",
       "  </tbody>\n",
       "</table>\n",
       "<p>1439 rows × 12 columns</p>\n",
       "</div>\n",
       "      <button class=\"colab-df-convert\" onclick=\"convertToInteractive('df-756deb8a-7cd1-4eba-8d39-3cd61a57d750')\"\n",
       "              title=\"Convert this dataframe to an interactive table.\"\n",
       "              style=\"display:none;\">\n",
       "        \n",
       "  <svg xmlns=\"http://www.w3.org/2000/svg\" height=\"24px\"viewBox=\"0 0 24 24\"\n",
       "       width=\"24px\">\n",
       "    <path d=\"M0 0h24v24H0V0z\" fill=\"none\"/>\n",
       "    <path d=\"M18.56 5.44l.94 2.06.94-2.06 2.06-.94-2.06-.94-.94-2.06-.94 2.06-2.06.94zm-11 1L8.5 8.5l.94-2.06 2.06-.94-2.06-.94L8.5 2.5l-.94 2.06-2.06.94zm10 10l.94 2.06.94-2.06 2.06-.94-2.06-.94-.94-2.06-.94 2.06-2.06.94z\"/><path d=\"M17.41 7.96l-1.37-1.37c-.4-.4-.92-.59-1.43-.59-.52 0-1.04.2-1.43.59L10.3 9.45l-7.72 7.72c-.78.78-.78 2.05 0 2.83L4 21.41c.39.39.9.59 1.41.59.51 0 1.02-.2 1.41-.59l7.78-7.78 2.81-2.81c.8-.78.8-2.07 0-2.86zM5.41 20L4 18.59l7.72-7.72 1.47 1.35L5.41 20z\"/>\n",
       "  </svg>\n",
       "      </button>\n",
       "      \n",
       "  <style>\n",
       "    .colab-df-container {\n",
       "      display:flex;\n",
       "      flex-wrap:wrap;\n",
       "      gap: 12px;\n",
       "    }\n",
       "\n",
       "    .colab-df-convert {\n",
       "      background-color: #E8F0FE;\n",
       "      border: none;\n",
       "      border-radius: 50%;\n",
       "      cursor: pointer;\n",
       "      display: none;\n",
       "      fill: #1967D2;\n",
       "      height: 32px;\n",
       "      padding: 0 0 0 0;\n",
       "      width: 32px;\n",
       "    }\n",
       "\n",
       "    .colab-df-convert:hover {\n",
       "      background-color: #E2EBFA;\n",
       "      box-shadow: 0px 1px 2px rgba(60, 64, 67, 0.3), 0px 1px 3px 1px rgba(60, 64, 67, 0.15);\n",
       "      fill: #174EA6;\n",
       "    }\n",
       "\n",
       "    [theme=dark] .colab-df-convert {\n",
       "      background-color: #3B4455;\n",
       "      fill: #D2E3FC;\n",
       "    }\n",
       "\n",
       "    [theme=dark] .colab-df-convert:hover {\n",
       "      background-color: #434B5C;\n",
       "      box-shadow: 0px 1px 3px 1px rgba(0, 0, 0, 0.15);\n",
       "      filter: drop-shadow(0px 1px 2px rgba(0, 0, 0, 0.3));\n",
       "      fill: #FFFFFF;\n",
       "    }\n",
       "  </style>\n",
       "\n",
       "      <script>\n",
       "        const buttonEl =\n",
       "          document.querySelector('#df-756deb8a-7cd1-4eba-8d39-3cd61a57d750 button.colab-df-convert');\n",
       "        buttonEl.style.display =\n",
       "          google.colab.kernel.accessAllowed ? 'block' : 'none';\n",
       "\n",
       "        async function convertToInteractive(key) {\n",
       "          const element = document.querySelector('#df-756deb8a-7cd1-4eba-8d39-3cd61a57d750');\n",
       "          const dataTable =\n",
       "            await google.colab.kernel.invokeFunction('convertToInteractive',\n",
       "                                                     [key], {});\n",
       "          if (!dataTable) return;\n",
       "\n",
       "          const docLinkHtml = 'Like what you see? Visit the ' +\n",
       "            '<a target=\"_blank\" href=https://colab.research.google.com/notebooks/data_table.ipynb>data table notebook</a>'\n",
       "            + ' to learn more about interactive tables.';\n",
       "          element.innerHTML = '';\n",
       "          dataTable['output_type'] = 'display_data';\n",
       "          await google.colab.output.renderOutput(dataTable, element);\n",
       "          const docLink = document.createElement('div');\n",
       "          docLink.innerHTML = docLinkHtml;\n",
       "          element.appendChild(docLink);\n",
       "        }\n",
       "      </script>\n",
       "    </div>\n",
       "  </div>\n",
       "  "
      ],
      "text/plain": [
       "          open_time   open   high    low  close   volume     close_time  \\\n",
       "0     1651795260000  82.27  82.33  82.22  82.29  1321.94  1651795319999   \n",
       "1     1651795320000  82.30  82.96  82.24  82.96  7295.80  1651795379999   \n",
       "2     1651795380000  82.97  83.03  82.74  82.88  4019.77  1651795439999   \n",
       "3     1651795440000  82.88  82.98  82.88  82.95  1221.08  1651795499999   \n",
       "4     1651795500000  82.95  83.05  82.88  82.91  2726.21  1651795559999   \n",
       "...             ...    ...    ...    ...    ...      ...            ...   \n",
       "1434  1651881300000  77.50  77.50  77.36  77.36  1647.52  1651881359999   \n",
       "1435  1651881360000  77.37  77.41  77.32  77.40   826.26  1651881419999   \n",
       "1436  1651881420000  77.41  77.46  77.39  77.42   286.44  1651881479999   \n",
       "1437  1651881480000  77.42  77.43  77.36  77.41  1501.75  1651881539999   \n",
       "1438  1651881540000  77.39  77.40  77.30  77.30   943.71  1651881599999   \n",
       "\n",
       "      quote_asset_volume  number_of_trades  taker_buy_base_asset_volume  \\\n",
       "0            108737.7887               165                       394.75   \n",
       "1            602823.4094               840                      4474.21   \n",
       "2            333113.0076               499                      1596.36   \n",
       "3            101268.7597               156                       721.17   \n",
       "4            226206.9821               299                      1357.00   \n",
       "...                  ...               ...                          ...   \n",
       "1434         127571.7222               120                       642.34   \n",
       "1435          63927.0226               108                       211.93   \n",
       "1436          22179.7564                47                       114.31   \n",
       "1437         116224.7208                85                       797.52   \n",
       "1438          72990.3034                65                       266.84   \n",
       "\n",
       "      taker_buy_quote_asset_volume  ignore  \n",
       "0                       32473.3869       0  \n",
       "1                      369611.5287       0  \n",
       "2                      132283.9177       0  \n",
       "3                       59811.2911       0  \n",
       "4                      112636.1089       0  \n",
       "...                            ...     ...  \n",
       "1434                    49742.6907       0  \n",
       "1435                    16398.7716       0  \n",
       "1436                     8851.7381       0  \n",
       "1437                    61719.0222       0  \n",
       "1438                    20636.5411       0  \n",
       "\n",
       "[1439 rows x 12 columns]"
      ]
     },
     "execution_count": 48,
     "metadata": {},
     "output_type": "execute_result"
    }
   ],
   "source": [
    "df"
   ]
  },
  {
   "cell_type": "markdown",
   "metadata": {
    "id": "DffhQV-c7ZxQ"
   },
   "source": [
    "데이터가 잘 정리된 것을 확인할 수 있다."
   ]
  },
  {
   "cell_type": "markdown",
   "metadata": {
    "id": "IlQNC5fW7XLa"
   },
   "source": [
    "가져온 데이터는 Binance에서 제공하는 루나 코인에 대한 첫 데이터이다.  \n",
    "Binance에서 제공하는 거래 데이터의 시간 정보는 Unix time으로,  \n",
    "Jan 1 1970 00:00:00 UTC를 시작 시점으로 지금까지 지나온 시간을 밀리초 단위로 측정한 것이다.\n",
    "\n",
    "Binance 거래소는 24시간 운영되는데, 데이터셋의 첫 타임스탬프가 1611817260000,  \n",
    "즉 Thu Jan 28 2021 07:01:00 GMT+0000이라는 점을 들어  \n",
    "루나 코인이 2021년 1월 28일 처음 바이낸스에 등록된 것으로 오해할 수도 있겠으나 이는 사실이 아니니 유의하자."
   ]
  },
  {
   "cell_type": "markdown",
   "metadata": {
    "id": "a5sLwCCnBmqk"
   },
   "source": [
    "### 데이터 가공하기"
   ]
  },
  {
   "cell_type": "markdown",
   "metadata": {
    "id": "_q_VysDcb6eM"
   },
   "source": [
    "그나저나 (초보인) 우리에겐 시간에 따른 OHLCV(Open, High, Low, Close, Volume) 데이터만 있으면 충분하다.  \n",
    "`df.iloc[]`는 `df`에서 지정한 범위의 값을 새로운 `Dataframe` 객체로 반환한다.\n",
    "\n",
    "간단하게만 설명하자면, `[a:b,c:d]`는 `a`행부터 `b-1`행, `c`열부터 `d-1`열의 범위를 의미한다.  \n",
    "자세한 내용은 다음 도큐멘테이션([링크1](https://pandas.pydata.org/docs/reference/api/pandas.DataFrame.iloc.html)) 혹은  \n",
    "Pandas 10분 입문 가이드([링크2](https://pandas.pydata.org/docs/user_guide/10min.html)) 또는 그 번역본([링크3](https://dataitgirls2.github.io/10minutes2pandas/))을 참고하자.\n",
    "\n",
    "슬라이싱을 아직 모른다면 슬라이싱 문법([링크4](https://twpower.github.io/119-python-list-slicing-examples))을 먼저 공부하는 것을 추천한다."
   ]
  },
  {
   "cell_type": "code",
   "execution_count": 49,
   "metadata": {
    "id": "-uN2WlhATeBF"
   },
   "outputs": [],
   "source": [
    "df = df.iloc[:,:6]"
   ]
  },
  {
   "cell_type": "markdown",
   "metadata": {
    "id": "hBBNE6nQb-nD"
   },
   "source": [
    "다시 df를 출력하면 아래와 같다."
   ]
  },
  {
   "cell_type": "code",
   "execution_count": 50,
   "metadata": {
    "colab": {
     "base_uri": "https://localhost:8080/",
     "height": 424
    },
    "id": "_tNk9M4YTnts",
    "outputId": "b6457246-085b-48e6-b396-46f268fcc6cf"
   },
   "outputs": [
    {
     "data": {
      "text/html": [
       "\n",
       "  <div id=\"df-a9862303-459a-4001-a9dc-24f50c8cad2e\">\n",
       "    <div class=\"colab-df-container\">\n",
       "      <div>\n",
       "<style scoped>\n",
       "    .dataframe tbody tr th:only-of-type {\n",
       "        vertical-align: middle;\n",
       "    }\n",
       "\n",
       "    .dataframe tbody tr th {\n",
       "        vertical-align: top;\n",
       "    }\n",
       "\n",
       "    .dataframe thead th {\n",
       "        text-align: right;\n",
       "    }\n",
       "</style>\n",
       "<table border=\"1\" class=\"dataframe\">\n",
       "  <thead>\n",
       "    <tr style=\"text-align: right;\">\n",
       "      <th></th>\n",
       "      <th>open_time</th>\n",
       "      <th>open</th>\n",
       "      <th>high</th>\n",
       "      <th>low</th>\n",
       "      <th>close</th>\n",
       "      <th>volume</th>\n",
       "    </tr>\n",
       "  </thead>\n",
       "  <tbody>\n",
       "    <tr>\n",
       "      <th>0</th>\n",
       "      <td>1651795260000</td>\n",
       "      <td>82.27</td>\n",
       "      <td>82.33</td>\n",
       "      <td>82.22</td>\n",
       "      <td>82.29</td>\n",
       "      <td>1321.94</td>\n",
       "    </tr>\n",
       "    <tr>\n",
       "      <th>1</th>\n",
       "      <td>1651795320000</td>\n",
       "      <td>82.30</td>\n",
       "      <td>82.96</td>\n",
       "      <td>82.24</td>\n",
       "      <td>82.96</td>\n",
       "      <td>7295.80</td>\n",
       "    </tr>\n",
       "    <tr>\n",
       "      <th>2</th>\n",
       "      <td>1651795380000</td>\n",
       "      <td>82.97</td>\n",
       "      <td>83.03</td>\n",
       "      <td>82.74</td>\n",
       "      <td>82.88</td>\n",
       "      <td>4019.77</td>\n",
       "    </tr>\n",
       "    <tr>\n",
       "      <th>3</th>\n",
       "      <td>1651795440000</td>\n",
       "      <td>82.88</td>\n",
       "      <td>82.98</td>\n",
       "      <td>82.88</td>\n",
       "      <td>82.95</td>\n",
       "      <td>1221.08</td>\n",
       "    </tr>\n",
       "    <tr>\n",
       "      <th>4</th>\n",
       "      <td>1651795500000</td>\n",
       "      <td>82.95</td>\n",
       "      <td>83.05</td>\n",
       "      <td>82.88</td>\n",
       "      <td>82.91</td>\n",
       "      <td>2726.21</td>\n",
       "    </tr>\n",
       "    <tr>\n",
       "      <th>...</th>\n",
       "      <td>...</td>\n",
       "      <td>...</td>\n",
       "      <td>...</td>\n",
       "      <td>...</td>\n",
       "      <td>...</td>\n",
       "      <td>...</td>\n",
       "    </tr>\n",
       "    <tr>\n",
       "      <th>1434</th>\n",
       "      <td>1651881300000</td>\n",
       "      <td>77.50</td>\n",
       "      <td>77.50</td>\n",
       "      <td>77.36</td>\n",
       "      <td>77.36</td>\n",
       "      <td>1647.52</td>\n",
       "    </tr>\n",
       "    <tr>\n",
       "      <th>1435</th>\n",
       "      <td>1651881360000</td>\n",
       "      <td>77.37</td>\n",
       "      <td>77.41</td>\n",
       "      <td>77.32</td>\n",
       "      <td>77.40</td>\n",
       "      <td>826.26</td>\n",
       "    </tr>\n",
       "    <tr>\n",
       "      <th>1436</th>\n",
       "      <td>1651881420000</td>\n",
       "      <td>77.41</td>\n",
       "      <td>77.46</td>\n",
       "      <td>77.39</td>\n",
       "      <td>77.42</td>\n",
       "      <td>286.44</td>\n",
       "    </tr>\n",
       "    <tr>\n",
       "      <th>1437</th>\n",
       "      <td>1651881480000</td>\n",
       "      <td>77.42</td>\n",
       "      <td>77.43</td>\n",
       "      <td>77.36</td>\n",
       "      <td>77.41</td>\n",
       "      <td>1501.75</td>\n",
       "    </tr>\n",
       "    <tr>\n",
       "      <th>1438</th>\n",
       "      <td>1651881540000</td>\n",
       "      <td>77.39</td>\n",
       "      <td>77.40</td>\n",
       "      <td>77.30</td>\n",
       "      <td>77.30</td>\n",
       "      <td>943.71</td>\n",
       "    </tr>\n",
       "  </tbody>\n",
       "</table>\n",
       "<p>1439 rows × 6 columns</p>\n",
       "</div>\n",
       "      <button class=\"colab-df-convert\" onclick=\"convertToInteractive('df-a9862303-459a-4001-a9dc-24f50c8cad2e')\"\n",
       "              title=\"Convert this dataframe to an interactive table.\"\n",
       "              style=\"display:none;\">\n",
       "        \n",
       "  <svg xmlns=\"http://www.w3.org/2000/svg\" height=\"24px\"viewBox=\"0 0 24 24\"\n",
       "       width=\"24px\">\n",
       "    <path d=\"M0 0h24v24H0V0z\" fill=\"none\"/>\n",
       "    <path d=\"M18.56 5.44l.94 2.06.94-2.06 2.06-.94-2.06-.94-.94-2.06-.94 2.06-2.06.94zm-11 1L8.5 8.5l.94-2.06 2.06-.94-2.06-.94L8.5 2.5l-.94 2.06-2.06.94zm10 10l.94 2.06.94-2.06 2.06-.94-2.06-.94-.94-2.06-.94 2.06-2.06.94z\"/><path d=\"M17.41 7.96l-1.37-1.37c-.4-.4-.92-.59-1.43-.59-.52 0-1.04.2-1.43.59L10.3 9.45l-7.72 7.72c-.78.78-.78 2.05 0 2.83L4 21.41c.39.39.9.59 1.41.59.51 0 1.02-.2 1.41-.59l7.78-7.78 2.81-2.81c.8-.78.8-2.07 0-2.86zM5.41 20L4 18.59l7.72-7.72 1.47 1.35L5.41 20z\"/>\n",
       "  </svg>\n",
       "      </button>\n",
       "      \n",
       "  <style>\n",
       "    .colab-df-container {\n",
       "      display:flex;\n",
       "      flex-wrap:wrap;\n",
       "      gap: 12px;\n",
       "    }\n",
       "\n",
       "    .colab-df-convert {\n",
       "      background-color: #E8F0FE;\n",
       "      border: none;\n",
       "      border-radius: 50%;\n",
       "      cursor: pointer;\n",
       "      display: none;\n",
       "      fill: #1967D2;\n",
       "      height: 32px;\n",
       "      padding: 0 0 0 0;\n",
       "      width: 32px;\n",
       "    }\n",
       "\n",
       "    .colab-df-convert:hover {\n",
       "      background-color: #E2EBFA;\n",
       "      box-shadow: 0px 1px 2px rgba(60, 64, 67, 0.3), 0px 1px 3px 1px rgba(60, 64, 67, 0.15);\n",
       "      fill: #174EA6;\n",
       "    }\n",
       "\n",
       "    [theme=dark] .colab-df-convert {\n",
       "      background-color: #3B4455;\n",
       "      fill: #D2E3FC;\n",
       "    }\n",
       "\n",
       "    [theme=dark] .colab-df-convert:hover {\n",
       "      background-color: #434B5C;\n",
       "      box-shadow: 0px 1px 3px 1px rgba(0, 0, 0, 0.15);\n",
       "      filter: drop-shadow(0px 1px 2px rgba(0, 0, 0, 0.3));\n",
       "      fill: #FFFFFF;\n",
       "    }\n",
       "  </style>\n",
       "\n",
       "      <script>\n",
       "        const buttonEl =\n",
       "          document.querySelector('#df-a9862303-459a-4001-a9dc-24f50c8cad2e button.colab-df-convert');\n",
       "        buttonEl.style.display =\n",
       "          google.colab.kernel.accessAllowed ? 'block' : 'none';\n",
       "\n",
       "        async function convertToInteractive(key) {\n",
       "          const element = document.querySelector('#df-a9862303-459a-4001-a9dc-24f50c8cad2e');\n",
       "          const dataTable =\n",
       "            await google.colab.kernel.invokeFunction('convertToInteractive',\n",
       "                                                     [key], {});\n",
       "          if (!dataTable) return;\n",
       "\n",
       "          const docLinkHtml = 'Like what you see? Visit the ' +\n",
       "            '<a target=\"_blank\" href=https://colab.research.google.com/notebooks/data_table.ipynb>data table notebook</a>'\n",
       "            + ' to learn more about interactive tables.';\n",
       "          element.innerHTML = '';\n",
       "          dataTable['output_type'] = 'display_data';\n",
       "          await google.colab.output.renderOutput(dataTable, element);\n",
       "          const docLink = document.createElement('div');\n",
       "          docLink.innerHTML = docLinkHtml;\n",
       "          element.appendChild(docLink);\n",
       "        }\n",
       "      </script>\n",
       "    </div>\n",
       "  </div>\n",
       "  "
      ],
      "text/plain": [
       "          open_time   open   high    low  close   volume\n",
       "0     1651795260000  82.27  82.33  82.22  82.29  1321.94\n",
       "1     1651795320000  82.30  82.96  82.24  82.96  7295.80\n",
       "2     1651795380000  82.97  83.03  82.74  82.88  4019.77\n",
       "3     1651795440000  82.88  82.98  82.88  82.95  1221.08\n",
       "4     1651795500000  82.95  83.05  82.88  82.91  2726.21\n",
       "...             ...    ...    ...    ...    ...      ...\n",
       "1434  1651881300000  77.50  77.50  77.36  77.36  1647.52\n",
       "1435  1651881360000  77.37  77.41  77.32  77.40   826.26\n",
       "1436  1651881420000  77.41  77.46  77.39  77.42   286.44\n",
       "1437  1651881480000  77.42  77.43  77.36  77.41  1501.75\n",
       "1438  1651881540000  77.39  77.40  77.30  77.30   943.71\n",
       "\n",
       "[1439 rows x 6 columns]"
      ]
     },
     "execution_count": 50,
     "metadata": {},
     "output_type": "execute_result"
    }
   ],
   "source": [
    "df"
   ]
  },
  {
   "cell_type": "markdown",
   "metadata": {
    "id": "hacdFzWkl139"
   },
   "source": [
    "### 그래프로 각종 데이터 시각화하기"
   ]
  },
  {
   "cell_type": "markdown",
   "metadata": {
    "id": "e-8rvta0TzqQ"
   },
   "source": [
    "한 번 시가와 종가를 그래프로 표현해볼까?\n",
    "\n",
    "정말 쉽다. `plt.plot([x축 변수들 리스트],[y축 변수들 리스트])`를 이용하자.\n",
    "\n",
    "`df.loc`는 정수로 범위를 지정하는 `df.iloc`와 달리 직접 열의 이름을 이용하여 범위를 지정한다."
   ]
  },
  {
   "cell_type": "markdown",
   "metadata": {
    "id": "MrlTOC_OjBim"
   },
   "source": [
    "아래는 시간에 따른 시가(starting price)를 나타낸 그래프이다.  \n",
    "처음 시작 시간을 뺀 다음 $3600 \\times 10^{3}$을 나눠서 밀리초 단위를 시간 단위로 바꿔주었다."
   ]
  },
  {
   "cell_type": "code",
   "execution_count": 51,
   "metadata": {
    "colab": {
     "base_uri": "https://localhost:8080/",
     "height": 283
    },
    "id": "pohrXwrSP-z3",
    "outputId": "6db1e84e-349f-41a7-cf7d-9d80b1d54728"
   },
   "outputs": [
    {
     "data": {
      "text/plain": [
       "[<matplotlib.lines.Line2D at 0x7f32ee955ca0>]"
      ]
     },
     "execution_count": 51,
     "metadata": {},
     "output_type": "execute_result"
    },
    {
     "data": {
      "image/png": "[encoded data removed]",
      "text/plain": [
       "<Figure size 432x288 with 1 Axes>"
      ]
     },
     "metadata": {
      "needs_background": "light"
     },
     "output_type": "display_data"
    }
   ],
   "source": [
    "plt.plot((df.loc[:,\"open_time\"] - df.loc[0, \"open_time\"])/(3600 * 10**3), df.loc[:, \"open\"])"
   ]
  },
  {
   "cell_type": "markdown",
   "metadata": {
    "id": "qOur8WdrjTlj"
   },
   "source": [
    "그리고 아래는 시간에 따른 종가(closing price)를 나타낸 그래프이다. 시가 그래프와 거의 같다."
   ]
  },
  {
   "cell_type": "code",
   "execution_count": 52,
   "metadata": {
    "colab": {
     "base_uri": "https://localhost:8080/",
     "height": 283
    },
    "id": "I7xlC9yBRJxT",
    "outputId": "6bce1948-5754-4a78-f5a3-fe33d43d1083"
   },
   "outputs": [
    {
     "data": {
      "text/plain": [
       "[<matplotlib.lines.Line2D at 0x7f32f0de9880>]"
      ]
     },
     "execution_count": 52,
     "metadata": {},
     "output_type": "execute_result"
    },
    {
     "data": {
      "image/png": "[encoded data removed]",
      "text/plain": [
       "<Figure size 432x288 with 1 Axes>"
      ]
     },
     "metadata": {
      "needs_background": "light"
     },
     "output_type": "display_data"
    }
   ],
   "source": [
    "plt.plot((df.loc[:,\"open_time\"] - df.loc[0, \"open_time\"])/(3600 * 10**3), df.loc[:, \"close\"])"
   ]
  },
  {
   "cell_type": "markdown",
   "metadata": {
    "id": "goJ2OH1Cm3Zt"
   },
   "source": [
    "**보너스.** 시간에 따른 거래량은 아래 그래프로 나타낼 수 있다."
   ]
  },
  {
   "cell_type": "code",
   "execution_count": 25,
   "metadata": {
    "colab": {
     "base_uri": "https://localhost:8080/",
     "height": 296
    },
    "id": "_C1Sf_JsnuQq",
    "outputId": "83f73df6-d74d-431c-c8ca-d5ea85884890"
   },
   "outputs": [
    {
     "data": {
      "text/plain": [
       "[<matplotlib.lines.Line2D at 0x7f32f2b2ed60>]"
      ]
     },
     "execution_count": 25,
     "metadata": {},
     "output_type": "execute_result"
    },
    {
     "data": {
      "image/png": "[encoded data removed]",
      "text/plain": [
       "<Figure size 432x288 with 1 Axes>"
      ]
     },
     "metadata": {
      "needs_background": "light"
     },
     "output_type": "display_data"
    }
   ],
   "source": [
    "plt.plot(df.loc[:,\"Open time\"], df.loc[:, \"Volume\"])"
   ]
  },
  {
   "cell_type": "markdown",
   "metadata": {
    "id": "mJeHUhX_BIh6"
   },
   "source": [
    "### Candlestick chart 구현하기"
   ]
  },
  {
   "cell_type": "markdown",
   "metadata": {
    "id": "fFWcYGzZoVf2"
   },
   "source": [
    "시가와 종가를 한 번에 표현할 수는 없을까?  \n",
    "이를 위해서는 candlestick chart를 사용해야 한다.\n",
    "[링크](https://www.statology.org/matplotlib-python-candlestick-chart/)의 튜토리얼을 참고하여 시각화해보자."
   ]
  },
  {
   "cell_type": "markdown",
   "metadata": {
    "id": "ejBUdpSb5GeT"
   },
   "source": [
    "(1분 간격은 너무 짧으니까) 우선 같은 날의 1시간 간격 k-lines 데이터셋을 불러온다.\n"
   ]
  },
  {
   "cell_type": "code",
   "execution_count": 53,
   "metadata": {
    "id": "c4jzsxfU7xax"
   },
   "outputs": [],
   "source": [
    "df_1h = pd.read_csv('LUNAUSDT-1h-2022-05-06.csv')\n",
    "df_1h.columns = [\"open_time\", \"open\", \"high\", \"low\", \"close\", \"volume\", \"close_time\", \"quote_asset_volume\", \"number_of_trades\", \"taker_buy_base_asset_volume\", \"taker_buy_quote_asset_volume\", \"ignore\"]"
   ]
  },
  {
   "cell_type": "markdown",
   "metadata": {
    "id": "p67onbkh5OtH"
   },
   "source": [
    "다음으로 표에서 필요 없는 부분을 df_1h.iloc()을 이용하여 잘라내고 표를 출력해보자."
   ]
  },
  {
   "cell_type": "code",
   "execution_count": 56,
   "metadata": {
    "id": "rAbo6a2WuQ8q"
   },
   "outputs": [],
   "source": [
    "prices = df_1h.iloc[:, :6]"
   ]
  },
  {
   "cell_type": "code",
   "execution_count": 64,
   "metadata": {
    "colab": {
     "base_uri": "https://localhost:8080/",
     "height": 771
    },
    "id": "vqfrE_VOuWtK",
    "outputId": "4273c9d4-c2b1-41cd-8dbd-4b3ca72395e9"
   },
   "outputs": [
    {
     "data": {
      "text/html": [
       "\n",
       "  <div id=\"df-7fca8fd1-77a7-412b-9838-3efa68045653\">\n",
       "    <div class=\"colab-df-container\">\n",
       "      <div>\n",
       "<style scoped>\n",
       "    .dataframe tbody tr th:only-of-type {\n",
       "        vertical-align: middle;\n",
       "    }\n",
       "\n",
       "    .dataframe tbody tr th {\n",
       "        vertical-align: top;\n",
       "    }\n",
       "\n",
       "    .dataframe thead th {\n",
       "        text-align: right;\n",
       "    }\n",
       "</style>\n",
       "<table border=\"1\" class=\"dataframe\">\n",
       "  <thead>\n",
       "    <tr style=\"text-align: right;\">\n",
       "      <th></th>\n",
       "      <th>open_time</th>\n",
       "      <th>open</th>\n",
       "      <th>high</th>\n",
       "      <th>low</th>\n",
       "      <th>close</th>\n",
       "      <th>volume</th>\n",
       "    </tr>\n",
       "  </thead>\n",
       "  <tbody>\n",
       "    <tr>\n",
       "      <th>0</th>\n",
       "      <td>1651798800000</td>\n",
       "      <td>81.76</td>\n",
       "      <td>82.10</td>\n",
       "      <td>80.84</td>\n",
       "      <td>80.91</td>\n",
       "      <td>150090.41</td>\n",
       "    </tr>\n",
       "    <tr>\n",
       "      <th>1</th>\n",
       "      <td>1651802400000</td>\n",
       "      <td>80.91</td>\n",
       "      <td>81.58</td>\n",
       "      <td>80.79</td>\n",
       "      <td>81.10</td>\n",
       "      <td>99172.31</td>\n",
       "    </tr>\n",
       "    <tr>\n",
       "      <th>2</th>\n",
       "      <td>1651806000000</td>\n",
       "      <td>81.11</td>\n",
       "      <td>81.19</td>\n",
       "      <td>80.45</td>\n",
       "      <td>80.99</td>\n",
       "      <td>84355.26</td>\n",
       "    </tr>\n",
       "    <tr>\n",
       "      <th>3</th>\n",
       "      <td>1651809600000</td>\n",
       "      <td>80.99</td>\n",
       "      <td>80.99</td>\n",
       "      <td>80.17</td>\n",
       "      <td>80.54</td>\n",
       "      <td>97514.58</td>\n",
       "    </tr>\n",
       "    <tr>\n",
       "      <th>4</th>\n",
       "      <td>1651813200000</td>\n",
       "      <td>80.54</td>\n",
       "      <td>81.46</td>\n",
       "      <td>80.37</td>\n",
       "      <td>80.90</td>\n",
       "      <td>96842.08</td>\n",
       "    </tr>\n",
       "    <tr>\n",
       "      <th>5</th>\n",
       "      <td>1651816800000</td>\n",
       "      <td>80.90</td>\n",
       "      <td>81.17</td>\n",
       "      <td>80.43</td>\n",
       "      <td>80.45</td>\n",
       "      <td>60814.34</td>\n",
       "    </tr>\n",
       "    <tr>\n",
       "      <th>6</th>\n",
       "      <td>1651820400000</td>\n",
       "      <td>80.46</td>\n",
       "      <td>80.70</td>\n",
       "      <td>79.06</td>\n",
       "      <td>80.35</td>\n",
       "      <td>225419.90</td>\n",
       "    </tr>\n",
       "    <tr>\n",
       "      <th>7</th>\n",
       "      <td>1651824000000</td>\n",
       "      <td>80.34</td>\n",
       "      <td>81.07</td>\n",
       "      <td>79.51</td>\n",
       "      <td>79.67</td>\n",
       "      <td>204673.88</td>\n",
       "    </tr>\n",
       "    <tr>\n",
       "      <th>8</th>\n",
       "      <td>1651827600000</td>\n",
       "      <td>79.66</td>\n",
       "      <td>80.99</td>\n",
       "      <td>79.58</td>\n",
       "      <td>80.87</td>\n",
       "      <td>119736.93</td>\n",
       "    </tr>\n",
       "    <tr>\n",
       "      <th>9</th>\n",
       "      <td>1651831200000</td>\n",
       "      <td>80.87</td>\n",
       "      <td>81.49</td>\n",
       "      <td>79.73</td>\n",
       "      <td>80.09</td>\n",
       "      <td>142784.24</td>\n",
       "    </tr>\n",
       "    <tr>\n",
       "      <th>10</th>\n",
       "      <td>1651834800000</td>\n",
       "      <td>80.06</td>\n",
       "      <td>80.55</td>\n",
       "      <td>78.95</td>\n",
       "      <td>79.84</td>\n",
       "      <td>218180.77</td>\n",
       "    </tr>\n",
       "    <tr>\n",
       "      <th>11</th>\n",
       "      <td>1651838400000</td>\n",
       "      <td>79.84</td>\n",
       "      <td>81.00</td>\n",
       "      <td>79.73</td>\n",
       "      <td>80.12</td>\n",
       "      <td>194557.83</td>\n",
       "    </tr>\n",
       "    <tr>\n",
       "      <th>12</th>\n",
       "      <td>1651842000000</td>\n",
       "      <td>80.11</td>\n",
       "      <td>80.46</td>\n",
       "      <td>77.47</td>\n",
       "      <td>78.30</td>\n",
       "      <td>454900.44</td>\n",
       "    </tr>\n",
       "    <tr>\n",
       "      <th>13</th>\n",
       "      <td>1651845600000</td>\n",
       "      <td>78.30</td>\n",
       "      <td>80.42</td>\n",
       "      <td>78.01</td>\n",
       "      <td>80.16</td>\n",
       "      <td>351534.95</td>\n",
       "    </tr>\n",
       "    <tr>\n",
       "      <th>14</th>\n",
       "      <td>1651849200000</td>\n",
       "      <td>80.16</td>\n",
       "      <td>81.73</td>\n",
       "      <td>79.86</td>\n",
       "      <td>80.02</td>\n",
       "      <td>268813.10</td>\n",
       "    </tr>\n",
       "    <tr>\n",
       "      <th>15</th>\n",
       "      <td>1651852800000</td>\n",
       "      <td>80.02</td>\n",
       "      <td>80.68</td>\n",
       "      <td>79.64</td>\n",
       "      <td>80.65</td>\n",
       "      <td>168687.42</td>\n",
       "    </tr>\n",
       "    <tr>\n",
       "      <th>16</th>\n",
       "      <td>1651856400000</td>\n",
       "      <td>80.66</td>\n",
       "      <td>80.71</td>\n",
       "      <td>79.75</td>\n",
       "      <td>79.97</td>\n",
       "      <td>99803.03</td>\n",
       "    </tr>\n",
       "    <tr>\n",
       "      <th>17</th>\n",
       "      <td>1651860000000</td>\n",
       "      <td>79.97</td>\n",
       "      <td>80.04</td>\n",
       "      <td>79.10</td>\n",
       "      <td>79.59</td>\n",
       "      <td>110559.37</td>\n",
       "    </tr>\n",
       "    <tr>\n",
       "      <th>18</th>\n",
       "      <td>1651863600000</td>\n",
       "      <td>79.59</td>\n",
       "      <td>80.14</td>\n",
       "      <td>79.18</td>\n",
       "      <td>79.42</td>\n",
       "      <td>141207.01</td>\n",
       "    </tr>\n",
       "    <tr>\n",
       "      <th>19</th>\n",
       "      <td>1651867200000</td>\n",
       "      <td>79.42</td>\n",
       "      <td>79.59</td>\n",
       "      <td>78.71</td>\n",
       "      <td>79.32</td>\n",
       "      <td>194863.87</td>\n",
       "    </tr>\n",
       "    <tr>\n",
       "      <th>20</th>\n",
       "      <td>1651870800000</td>\n",
       "      <td>79.32</td>\n",
       "      <td>79.43</td>\n",
       "      <td>78.45</td>\n",
       "      <td>78.72</td>\n",
       "      <td>55168.97</td>\n",
       "    </tr>\n",
       "    <tr>\n",
       "      <th>21</th>\n",
       "      <td>1651874400000</td>\n",
       "      <td>78.72</td>\n",
       "      <td>78.86</td>\n",
       "      <td>78.00</td>\n",
       "      <td>78.52</td>\n",
       "      <td>66348.67</td>\n",
       "    </tr>\n",
       "    <tr>\n",
       "      <th>22</th>\n",
       "      <td>1651878000000</td>\n",
       "      <td>78.52</td>\n",
       "      <td>78.62</td>\n",
       "      <td>77.22</td>\n",
       "      <td>77.30</td>\n",
       "      <td>126385.87</td>\n",
       "    </tr>\n",
       "  </tbody>\n",
       "</table>\n",
       "</div>\n",
       "      <button class=\"colab-df-convert\" onclick=\"convertToInteractive('df-7fca8fd1-77a7-412b-9838-3efa68045653')\"\n",
       "              title=\"Convert this dataframe to an interactive table.\"\n",
       "              style=\"display:none;\">\n",
       "        \n",
       "  <svg xmlns=\"http://www.w3.org/2000/svg\" height=\"24px\"viewBox=\"0 0 24 24\"\n",
       "       width=\"24px\">\n",
       "    <path d=\"M0 0h24v24H0V0z\" fill=\"none\"/>\n",
       "    <path d=\"M18.56 5.44l.94 2.06.94-2.06 2.06-.94-2.06-.94-.94-2.06-.94 2.06-2.06.94zm-11 1L8.5 8.5l.94-2.06 2.06-.94-2.06-.94L8.5 2.5l-.94 2.06-2.06.94zm10 10l.94 2.06.94-2.06 2.06-.94-2.06-.94-.94-2.06-.94 2.06-2.06.94z\"/><path d=\"M17.41 7.96l-1.37-1.37c-.4-.4-.92-.59-1.43-.59-.52 0-1.04.2-1.43.59L10.3 9.45l-7.72 7.72c-.78.78-.78 2.05 0 2.83L4 21.41c.39.39.9.59 1.41.59.51 0 1.02-.2 1.41-.59l7.78-7.78 2.81-2.81c.8-.78.8-2.07 0-2.86zM5.41 20L4 18.59l7.72-7.72 1.47 1.35L5.41 20z\"/>\n",
       "  </svg>\n",
       "      </button>\n",
       "      \n",
       "  <style>\n",
       "    .colab-df-container {\n",
       "      display:flex;\n",
       "      flex-wrap:wrap;\n",
       "      gap: 12px;\n",
       "    }\n",
       "\n",
       "    .colab-df-convert {\n",
       "      background-color: #E8F0FE;\n",
       "      border: none;\n",
       "      border-radius: 50%;\n",
       "      cursor: pointer;\n",
       "      display: none;\n",
       "      fill: #1967D2;\n",
       "      height: 32px;\n",
       "      padding: 0 0 0 0;\n",
       "      width: 32px;\n",
       "    }\n",
       "\n",
       "    .colab-df-convert:hover {\n",
       "      background-color: #E2EBFA;\n",
       "      box-shadow: 0px 1px 2px rgba(60, 64, 67, 0.3), 0px 1px 3px 1px rgba(60, 64, 67, 0.15);\n",
       "      fill: #174EA6;\n",
       "    }\n",
       "\n",
       "    [theme=dark] .colab-df-convert {\n",
       "      background-color: #3B4455;\n",
       "      fill: #D2E3FC;\n",
       "    }\n",
       "\n",
       "    [theme=dark] .colab-df-convert:hover {\n",
       "      background-color: #434B5C;\n",
       "      box-shadow: 0px 1px 3px 1px rgba(0, 0, 0, 0.15);\n",
       "      filter: drop-shadow(0px 1px 2px rgba(0, 0, 0, 0.3));\n",
       "      fill: #FFFFFF;\n",
       "    }\n",
       "  </style>\n",
       "\n",
       "      <script>\n",
       "        const buttonEl =\n",
       "          document.querySelector('#df-7fca8fd1-77a7-412b-9838-3efa68045653 button.colab-df-convert');\n",
       "        buttonEl.style.display =\n",
       "          google.colab.kernel.accessAllowed ? 'block' : 'none';\n",
       "\n",
       "        async function convertToInteractive(key) {\n",
       "          const element = document.querySelector('#df-7fca8fd1-77a7-412b-9838-3efa68045653');\n",
       "          const dataTable =\n",
       "            await google.colab.kernel.invokeFunction('convertToInteractive',\n",
       "                                                     [key], {});\n",
       "          if (!dataTable) return;\n",
       "\n",
       "          const docLinkHtml = 'Like what you see? Visit the ' +\n",
       "            '<a target=\"_blank\" href=https://colab.research.google.com/notebooks/data_table.ipynb>data table notebook</a>'\n",
       "            + ' to learn more about interactive tables.';\n",
       "          element.innerHTML = '';\n",
       "          dataTable['output_type'] = 'display_data';\n",
       "          await google.colab.output.renderOutput(dataTable, element);\n",
       "          const docLink = document.createElement('div');\n",
       "          docLink.innerHTML = docLinkHtml;\n",
       "          element.appendChild(docLink);\n",
       "        }\n",
       "      </script>\n",
       "    </div>\n",
       "  </div>\n",
       "  "
      ],
      "text/plain": [
       "        open_time   open   high    low  close     volume\n",
       "0   1651798800000  81.76  82.10  80.84  80.91  150090.41\n",
       "1   1651802400000  80.91  81.58  80.79  81.10   99172.31\n",
       "2   1651806000000  81.11  81.19  80.45  80.99   84355.26\n",
       "3   1651809600000  80.99  80.99  80.17  80.54   97514.58\n",
       "4   1651813200000  80.54  81.46  80.37  80.90   96842.08\n",
       "5   1651816800000  80.90  81.17  80.43  80.45   60814.34\n",
       "6   1651820400000  80.46  80.70  79.06  80.35  225419.90\n",
       "7   1651824000000  80.34  81.07  79.51  79.67  204673.88\n",
       "8   1651827600000  79.66  80.99  79.58  80.87  119736.93\n",
       "9   1651831200000  80.87  81.49  79.73  80.09  142784.24\n",
       "10  1651834800000  80.06  80.55  78.95  79.84  218180.77\n",
       "11  1651838400000  79.84  81.00  79.73  80.12  194557.83\n",
       "12  1651842000000  80.11  80.46  77.47  78.30  454900.44\n",
       "13  1651845600000  78.30  80.42  78.01  80.16  351534.95\n",
       "14  1651849200000  80.16  81.73  79.86  80.02  268813.10\n",
       "15  1651852800000  80.02  80.68  79.64  80.65  168687.42\n",
       "16  1651856400000  80.66  80.71  79.75  79.97   99803.03\n",
       "17  1651860000000  79.97  80.04  79.10  79.59  110559.37\n",
       "18  1651863600000  79.59  80.14  79.18  79.42  141207.01\n",
       "19  1651867200000  79.42  79.59  78.71  79.32  194863.87\n",
       "20  1651870800000  79.32  79.43  78.45  78.72   55168.97\n",
       "21  1651874400000  78.72  78.86  78.00  78.52   66348.67\n",
       "22  1651878000000  78.52  78.62  77.22  77.30  126385.87"
      ]
     },
     "execution_count": 64,
     "metadata": {},
     "output_type": "execute_result"
    }
   ],
   "source": [
    "prices"
   ]
  },
  {
   "cell_type": "markdown",
   "metadata": {
    "id": "T7rnBYoE_ueX"
   },
   "source": [
    "이제 candlestick chart를 `matplotlib.pyplot`를 활용하여 구현해보자."
   ]
  },
  {
   "cell_type": "code",
   "execution_count": 61,
   "metadata": {
    "colab": {
     "base_uri": "https://localhost:8080/",
     "height": 265
    },
    "id": "OO98MQy_oWIt",
    "outputId": "6e5e15ca-50cf-45b2-95f8-0c05f8b62792"
   },
   "outputs": [
    {
     "data": {
      "image/png": "[encoded data removed]",
      "text/plain": [
       "<Figure size 432x288 with 1 Axes>"
      ]
     },
     "metadata": {
      "needs_background": "light"
     },
     "output_type": "display_data"
    }
   ],
   "source": [
    "#create figure\n",
    "plt.figure()\n",
    "\n",
    "#define width of candlestick elements\n",
    "width = .2\n",
    "width2 = .02\n",
    "\n",
    "#define up and down prices\n",
    "up = prices[prices.open<=prices.close]\n",
    "down = prices[prices.open>prices.close]\n",
    "\n",
    "#define colors to use\n",
    "col1 = 'green'\n",
    "col2 = 'red'\n",
    "\n",
    "#plot up prices\n",
    "plt.bar(up.index, up.close-up.open, width, bottom=up.open, color=col1)\n",
    "plt.bar(up.index, up.high-up.close, width2, bottom=up.close, color=col1)\n",
    "plt.bar(up.index, up.low-up.open, width2, bottom=up.open, color=col1)\n",
    "\n",
    "#plot down prices\n",
    "plt.bar(down.index, down.close-down.open,width,bottom=down.open,color=col2)\n",
    "plt.bar(down.index, down.high-down.open, width2, bottom=down.open, color=col2)\n",
    "plt.bar(down.index, down.low-down.close, width2, bottom=down.close, color=col2)\n",
    "\n",
    "#display candlestick chart\n",
    "plt.show()"
   ]
  }
 ],
 "metadata": {
  "colab": {
   "provenance": []
  },
  "kernelspec": {
   "display_name": "Python 3 (ipykernel)",
   "language": "python",
   "name": "python3"
  },
  "language_info": {
   "codemirror_mode": {
    "name": "ipython",
    "version": 3
   },
   "file_extension": ".py",
   "mimetype": "text/x-python",
   "name": "python",
   "nbconvert_exporter": "python",
   "pygments_lexer": "ipython3",
   "version": "3.9.7"
  }
 },
 "nbformat": 4,
 "nbformat_minor": 1
}
