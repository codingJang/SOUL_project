{
 "cells": [
  {
   "cell_type": "markdown",
   "metadata": {},
   "source": [
    "# Significance test\n",
    "## is the grouping_countries.csv actually valid?\n",
    "# Descrption\n",
    "We have grouped the countries into \"teams\", based on their government's ideology, affinity etc."
   ]
  },
  {
   "cell_type": "code",
   "execution_count": 8,
   "metadata": {},
   "outputs": [],
   "source": [
    "import numpy as np\n",
    "import pandas as pd\n",
    "import matplotlib.pyplot as plt"
   ]
  },
  {
   "cell_type": "code",
   "execution_count": 9,
   "metadata": {},
   "outputs": [],
   "source": [
    "def calculate_partition_goodness(adjmat_df, partition_df):\n",
    "    # Initialize counters for within-group and between-group strengths\n",
    "    within_group_strength = 0\n",
    "    within_group_count = 0\n",
    "    between_group_strength = 0\n",
    "    between_group_count = 0\n",
    "\n",
    "    index = adjmat_df.index\n",
    "    \n",
    "    # Enumerate over each pair of nodes\n",
    "    for i in range(adjmat_df.shape[0]):\n",
    "        for j in range(i+1, adjmat_df.shape[0]):  # We start from i+1 to avoid double-counting edges\n",
    "            edge_strength = adjmat_df.loc[index[i],index[j]]\n",
    "            \n",
    "            # Check if nodes i and j are in the same group\n",
    "            if partition_df.loc[index[i]] == partition_df.loc[index[j]]:\n",
    "                within_group_strength += edge_strength\n",
    "                within_group_count += 1\n",
    "            else:\n",
    "                between_group_strength += edge_strength\n",
    "                between_group_count += 1\n",
    "    \n",
    "    # Calculate average strengths\n",
    "    if within_group_count == 0:\n",
    "        avg_within_group_strength = 0\n",
    "    else:\n",
    "        avg_within_group_strength = within_group_strength / within_group_count\n",
    "    if between_group_count == 0:\n",
    "        avg_between_group_strength = 0\n",
    "    else:\n",
    "        avg_between_group_strength = between_group_strength / between_group_count\n",
    "    \n",
    "    # Calculate the goodness measure: the ratio of the average within-group strength to the average between-group strength\n",
    "    \"\"\"\n",
    "    if avg_between_group_strength == 0:\n",
    "        goodness = np.inf if avg_within_group_strength > 0 else 1\n",
    "    else:\n",
    "        goodness = avg_within_group_strength / avg_between_group_strength\n",
    "    \"\"\"\n",
    "    eps = 1e-10\n",
    "    goodness = avg_within_group_strength / (avg_between_group_strength + eps)\n",
    "    return goodness\n",
    "\n",
    "def permutation_test(adjmat, partition, n_permutations=1000):\n",
    "    n = len(partition)\n",
    "    observed_goodness = calculate_partition_goodness(adjmat, partition)\n",
    "    goodness_values = []\n",
    "    for _ in range(n_permutations):\n",
    "        if _ % 100 == 0:\n",
    "            print(\"iteration:\", _)\n",
    "        np.random.shuffle(partition)\n",
    "        goodness = calculate_partition_goodness(adjmat, partition)\n",
    "        goodness_values.append(goodness)\n",
    "    p_value = sum(i > observed_goodness for i in goodness_values) / n_permutations\n",
    "    return p_value, observed_goodness, goodness_values\n"
   ]
  },
  {
   "cell_type": "code",
   "execution_count": 10,
   "metadata": {},
   "outputs": [],
   "source": [
    "adjmat_df = pd.read_csv('IGO_adjmat.csv', index_col=0)\n",
    "partition_df = pd.read_csv('grouping_countries.csv', index_col='CtryAbb')\n",
    "partition_df = partition_df['lv1']\n",
    "partition_df = partition_df[partition_df != 0]\n",
    "index = list(partition_df.index)\n",
    "adjmat_df = adjmat_df.loc[index, index]"
   ]
  },
  {
   "cell_type": "code",
   "execution_count": 11,
   "metadata": {},
   "outputs": [
    {
     "name": "stdout",
     "output_type": "stream",
     "text": [
      "iteration: 0\n"
     ]
    },
    {
     "name": "stderr",
     "output_type": "stream",
     "text": [
      "/var/folders/cr/4ychhhxn41b3ts91p71bs_040000gn/T/ipykernel_66583/2141801601.py:2: UserWarning: `x` isn't a recognized object; `shuffle` is not guaranteed to behave correctly. E.g., non-numpy array/tensor objects with view semantics may contain duplicates after shuffling.\n",
      "  p_value, observed_goodness, goodness_values = permutation_test(adjmat_df, partition_df, n_permutations=2000)\n"
     ]
    },
    {
     "name": "stdout",
     "output_type": "stream",
     "text": [
      "iteration: 100\n",
      "iteration: 200\n",
      "iteration: 300\n",
      "iteration: 400\n",
      "iteration: 500\n",
      "iteration: 600\n",
      "iteration: 700\n",
      "iteration: 800\n",
      "iteration: 900\n",
      "iteration: 1000\n",
      "iteration: 1100\n",
      "iteration: 1200\n",
      "iteration: 1300\n",
      "iteration: 1400\n",
      "iteration: 1500\n",
      "iteration: 1600\n",
      "iteration: 1700\n",
      "iteration: 1800\n",
      "iteration: 1900\n"
     ]
    }
   ],
   "source": [
    "np.random.seed(0)  # for reproducibility\n",
    "p_value, observed_goodness, goodness_values = permutation_test(adjmat_df, partition_df, n_permutations=2000)"
   ]
  },
  {
   "cell_type": "code",
   "execution_count": 12,
   "metadata": {},
   "outputs": [
    {
     "name": "stdout",
     "output_type": "stream",
     "text": [
      "observed goodness: 1.3560586265807641 p-value: 0.0\n"
     ]
    },
    {
     "data": {
      "image/png": "[encoded data removed]",
      "text/plain": [
       "<Figure size 432x288 with 1 Axes>"
      ]
     },
     "metadata": {
      "needs_background": "light"
     },
     "output_type": "display_data"
    },
    {
     "data": {
      "text/plain": [
       "<Figure size 432x288 with 0 Axes>"
      ]
     },
     "metadata": {},
     "output_type": "display_data"
    }
   ],
   "source": [
    "print(\"observed goodness:\", observed_goodness, \"p-value:\", p_value)\n",
    "plt.hist(goodness_values, bins='auto', color='blue', edgecolor='black')\n",
    "plt.title('Histogram of Goodness Values')\n",
    "plt.xlabel('Goodness Value')\n",
    "plt.ylabel('Frequency')\n",
    "plt.axvline(x=observed_goodness, color='r', linestyle='dashed', linewidth=2)  # Line for observed goodness\n",
    "plt.show()\n",
    "plt.savefig('goodness_histogram_lv1.png', dpi=300)"
   ]
  },
  {
   "cell_type": "code",
   "execution_count": 13,
   "metadata": {},
   "outputs": [],
   "source": [
    "adjmat_df = pd.read_csv('IGO_adjmat.csv', index_col=0)\n",
    "partition_df = pd.read_csv('grouping_countries.csv', index_col='CtryAbb')\n",
    "partition_df = partition_df['lv2']\n",
    "partition_df = partition_df[partition_df != 0]\n",
    "index = list(partition_df.index)\n",
    "adjmat_df = adjmat_df.loc[index, index]"
   ]
  },
  {
   "cell_type": "code",
   "execution_count": 14,
   "metadata": {},
   "outputs": [
    {
     "name": "stdout",
     "output_type": "stream",
     "text": [
      "iteration: 0\n"
     ]
    },
    {
     "name": "stderr",
     "output_type": "stream",
     "text": [
      "/var/folders/cr/4ychhhxn41b3ts91p71bs_040000gn/T/ipykernel_66583/2141801601.py:2: UserWarning: `x` isn't a recognized object; `shuffle` is not guaranteed to behave correctly. E.g., non-numpy array/tensor objects with view semantics may contain duplicates after shuffling.\n",
      "  p_value, observed_goodness, goodness_values = permutation_test(adjmat_df, partition_df, n_permutations=2000)\n"
     ]
    },
    {
     "name": "stdout",
     "output_type": "stream",
     "text": [
      "iteration: 100\n",
      "iteration: 200\n",
      "iteration: 300\n",
      "iteration: 400\n",
      "iteration: 500\n",
      "iteration: 600\n",
      "iteration: 700\n",
      "iteration: 800\n",
      "iteration: 900\n",
      "iteration: 1000\n",
      "iteration: 1100\n",
      "iteration: 1200\n",
      "iteration: 1300\n",
      "iteration: 1400\n",
      "iteration: 1500\n",
      "iteration: 1600\n",
      "iteration: 1700\n",
      "iteration: 1800\n",
      "iteration: 1900\n"
     ]
    }
   ],
   "source": [
    "np.random.seed(0)  # for reproducibility\n",
    "p_value, observed_goodness, goodness_values = permutation_test(adjmat_df, partition_df, n_permutations=2000)"
   ]
  },
  {
   "cell_type": "code",
   "execution_count": 15,
   "metadata": {},
   "outputs": [
    {
     "name": "stdout",
     "output_type": "stream",
     "text": [
      "observed goodness: 1.1659460188330164 p-value: 0.0\n"
     ]
    },
    {
     "data": {
      "image/png": "[encoded data removed]",
      "text/plain": [
       "<Figure size 432x288 with 1 Axes>"
      ]
     },
     "metadata": {
      "needs_background": "light"
     },
     "output_type": "display_data"
    },
    {
     "data": {
      "text/plain": [
       "<Figure size 432x288 with 0 Axes>"
      ]
     },
     "metadata": {},
     "output_type": "display_data"
    }
   ],
   "source": [
    "print(\"observed goodness:\", observed_goodness, \"p-value:\", p_value)\n",
    "plt.hist(goodness_values, bins='auto', color='blue', edgecolor='black')\n",
    "plt.title('Histogram of Goodness Values')\n",
    "plt.xlabel('Goodness Value')\n",
    "plt.ylabel('Frequency')\n",
    "plt.axvline(x=observed_goodness, color='r', linestyle='dashed', linewidth=2)  # Line for observed goodness\n",
    "plt.show()\n",
    "plt.savefig('goodness_histogram_lv2.png', dpi=300)"
   ]
  }
 ],
 "metadata": {
  "kernelspec": {
   "display_name": "base",
   "language": "python",
   "name": "python3"
  },
  "language_info": {
   "codemirror_mode": {
    "name": "ipython",
    "version": 3
   },
   "file_extension": ".py",
   "mimetype": "text/x-python",
   "name": "python",
   "nbconvert_exporter": "python",
   "pygments_lexer": "ipython3",
   "version": "3.9.7"
  },
  "orig_nbformat": 4
 },
 "nbformat": 4,
 "nbformat_minor": 2
}
