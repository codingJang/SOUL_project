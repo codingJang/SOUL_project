{
 "cells": [
  {
   "cell_type": "code",
   "execution_count": 2,
   "metadata": {},
   "outputs": [
    {
     "name": "stderr",
     "output_type": "stream",
     "text": [
      "2023-11-09 14:18:34,653\tINFO worker.py:1507 -- Calling ray.init() again after it has already been called.\n",
      "/opt/homebrew/lib/python3.11/site-packages/pettingzoo/utils/wrappers/base.py:58: UserWarning: The `observation_spaces` dictionary is deprecated. Use the `observation_space` function instead.\n",
      "  warnings.warn(\n",
      "/opt/homebrew/lib/python3.11/site-packages/pettingzoo/utils/wrappers/base.py:72: UserWarning: The `action_spaces` dictionary is deprecated. Use the `action_space` function instead.\n",
      "  warnings.warn(\n",
      "2023-11-09 14:18:35,068\tWARNING deprecation.py:50 -- DeprecationWarning: `ray.rllib.models.torch.fcnet.FullyConnectedNetwork` has been deprecated. This will raise an error in the future!\n",
      "2023-11-09 14:18:35,332\tWARNING util.py:62 -- Install gputil for GPU system monitoring.\n"
     ]
    },
    {
     "ename": "TypeError",
     "evalue": "'dict' object cannot be interpreted as an integer",
     "output_type": "error",
     "traceback": [
      "\u001b[0;31m---------------------------------------------------------------------------\u001b[0m",
      "\u001b[0;31mTypeError\u001b[0m                                 Traceback (most recent call last)",
      "\u001b[1;32m/Users/jang-yejun/Projects/VSCodeProjects/SOUL_project/Source/RLlibPractice/RLlibPractice.ipynb Cell 2\u001b[0m line \u001b[0;36m3\n\u001b[1;32m     <a href='vscode-notebook-cell:/Users/jang-yejun/Projects/VSCodeProjects/SOUL_project/Source/RLlibPractice/RLlibPractice.ipynb#X16sZmlsZQ%3D%3D?line=29'>30</a>\u001b[0m trainer \u001b[39m=\u001b[39m DQNTrainer(config\u001b[39m=\u001b[39mconfig)\n\u001b[1;32m     <a href='vscode-notebook-cell:/Users/jang-yejun/Projects/VSCodeProjects/SOUL_project/Source/RLlibPractice/RLlibPractice.ipynb#X16sZmlsZQ%3D%3D?line=31'>32</a>\u001b[0m \u001b[39m# Training loop\u001b[39;00m\n\u001b[0;32m---> <a href='vscode-notebook-cell:/Users/jang-yejun/Projects/VSCodeProjects/SOUL_project/Source/RLlibPractice/RLlibPractice.ipynb#X16sZmlsZQ%3D%3D?line=32'>33</a>\u001b[0m \u001b[39mfor\u001b[39;00m episode \u001b[39min\u001b[39;00m \u001b[39mrange\u001b[39;49m(tune\u001b[39m.\u001b[39;49mgrid_search([\u001b[39m44000\u001b[39;49m])):  \u001b[39m# Use tune.grid_search to specify the number of episodes\u001b[39;00m\n\u001b[1;32m     <a href='vscode-notebook-cell:/Users/jang-yejun/Projects/VSCodeProjects/SOUL_project/Source/RLlibPractice/RLlibPractice.ipynb#X16sZmlsZQ%3D%3D?line=33'>34</a>\u001b[0m     result \u001b[39m=\u001b[39m trainer\u001b[39m.\u001b[39mtrain()\n\u001b[1;32m     <a href='vscode-notebook-cell:/Users/jang-yejun/Projects/VSCodeProjects/SOUL_project/Source/RLlibPractice/RLlibPractice.ipynb#X16sZmlsZQ%3D%3D?line=34'>35</a>\u001b[0m     \u001b[39mprint\u001b[39m(\u001b[39mf\u001b[39m\u001b[39m\"\u001b[39m\u001b[39mEpisode: \u001b[39m\u001b[39m{\u001b[39;00mepisode\u001b[39m}\u001b[39;00m\u001b[39m, result: \u001b[39m\u001b[39m{\u001b[39;00mresult\u001b[39m}\u001b[39;00m\u001b[39m\"\u001b[39m)\n",
      "\u001b[0;31mTypeError\u001b[0m: 'dict' object cannot be interpreted as an integer"
     ]
    }
   ],
   "source": [
    "import ray\n",
    "from ray import tune\n",
    "from ray.rllib.algorithms.dqn import DQN as DQNTrainer\n",
    "from ray.tune.registry import register_env\n",
    "from pettingzoo.mpe import simple_spread_v3\n",
    "from ray.rllib.env.wrappers.pettingzoo_env import PettingZooEnv\n",
    "\n",
    "# Wrap PettingZoo environment with RLlib wrapper\n",
    "def env_creator(env_config):\n",
    "    # Create the environment instance\n",
    "    env = simple_spread_v3.env()\n",
    "    # Wrap it with the PettingZoo wrapper\n",
    "    env = PettingZooEnv(env)\n",
    "    return env\n",
    "\n",
    "# Register the environment\n",
    "register_env(\"simple_spread_v3\", env_creator)\n",
    "\n",
    "# RLlib Trainer configuration\n",
    "config = {\n",
    "    \"env\": \"simple_spread_v3\",\n",
    "    # ... other configurations ...\n",
    "    # Make sure that all settings related to observations, rewards, and done flags are correctly set up\n",
    "}\n",
    "\n",
    "# Initialize Ray\n",
    "ray.init(ignore_reinit_error=True)\n",
    "\n",
    "# Create and train the Trainer\n",
    "trainer = DQNTrainer(config=config)\n",
    "\n",
    "# Training loop\n",
    "for episode in range(tune.grid_search([44000])):  # Use tune.grid_search to specify the number of episodes\n",
    "    result = trainer.train()\n",
    "    print(f\"Episode: {episode}, result: {result}\")\n",
    "\n",
    "    # Save the model periodically\n",
    "    if episode % 100 == 0:\n",
    "        checkpoint = trainer.save()\n",
    "        print(f\"Checkpoint saved at {checkpoint}\")\n"
   ]
  }
 ],
 "metadata": {
  "kernelspec": {
   "display_name": "Python 3",
   "language": "python",
   "name": "python3"
  },
  "language_info": {
   "codemirror_mode": {
    "name": "ipython",
    "version": 3
   },
   "file_extension": ".py",
   "mimetype": "text/x-python",
   "name": "python",
   "nbconvert_exporter": "python",
   "pygments_lexer": "ipython3",
   "version": "3.11.5"
  }
 },
 "nbformat": 4,
 "nbformat_minor": 2
}
